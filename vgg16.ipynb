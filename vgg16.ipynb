{
 "cells": [
  {
   "cell_type": "code",
   "execution_count": 1,
   "metadata": {},
   "outputs": [],
   "source": [
    "import tensorflow as tf\n",
    "import numpy as np\n",
    "import pandas as pd\n",
    "from tensorflow import keras\n",
    "from keras import models, layers, optimizers\n",
    "from keras.applications.vgg16 import VGG16\n",
    "from PIL import Image"
   ]
  },
  {
   "cell_type": "code",
   "execution_count": 2,
   "metadata": {},
   "outputs": [],
   "source": [
    "import os"
   ]
  },
  {
   "cell_type": "code",
   "execution_count": 3,
   "metadata": {},
   "outputs": [
    {
     "data": {
      "text/plain": [
       "[PhysicalDevice(name='/physical_device:CPU:0', device_type='CPU'),\n",
       " PhysicalDevice(name='/physical_device:GPU:0', device_type='GPU')]"
      ]
     },
     "execution_count": 3,
     "metadata": {},
     "output_type": "execute_result"
    }
   ],
   "source": [
    "tf.config.experimental.list_physical_devices()"
   ]
  },
  {
   "cell_type": "code",
   "execution_count": 4,
   "metadata": {},
   "outputs": [],
   "source": [
    "conv_base = VGG16(\n",
    "    weights= \"imagenet\",\n",
    "    input_shape=(384,384,3),\n",
    "    include_top=False\n",
    ")"
   ]
  },
  {
   "cell_type": "code",
   "execution_count": 1,
   "metadata": {},
   "outputs": [
    {
     "ename": "ModuleNotFoundError",
     "evalue": "No module named 'resnet50'",
     "output_type": "error",
     "traceback": [
      "\u001b[1;31m---------------------------------------------------------------------------\u001b[0m",
      "\u001b[1;31mModuleNotFoundError\u001b[0m                       Traceback (most recent call last)",
      "Cell \u001b[1;32mIn[1], line 1\u001b[0m\n\u001b[1;32m----> 1\u001b[0m \u001b[38;5;28;01mimport\u001b[39;00m \u001b[38;5;21;01mresnet50\u001b[39;00m\n\u001b[0;32m      2\u001b[0m conv_base \u001b[38;5;241m=\u001b[39m resnet50\u001b[38;5;241m.\u001b[39mResNet50(weights\u001b[38;5;241m=\u001b[39m\u001b[38;5;124m'\u001b[39m\u001b[38;5;124mimagenet\u001b[39m\u001b[38;5;124m'\u001b[39m, include_top\u001b[38;5;241m=\u001b[39m\u001b[38;5;28;01mFalse\u001b[39;00m, input_shape\u001b[38;5;241m=\u001b[39m(\u001b[38;5;241m200\u001b[39m,\u001b[38;5;241m200\u001b[39m,\u001b[38;5;241m3\u001b[39m))\n",
      "\u001b[1;31mModuleNotFoundError\u001b[0m: No module named 'resnet50'"
     ]
    }
   ],
   "source": [
    "# import resnet50\n",
    "# conv_base = resnet50.ResNet50(weights='imagenet', include_top=False, input_shape=(200,200,3))\n"
   ]
  },
  {
   "cell_type": "code",
   "execution_count": 5,
   "metadata": {},
   "outputs": [
    {
     "name": "stdout",
     "output_type": "stream",
     "text": [
      "Model: \"vgg16\"\n",
      "_________________________________________________________________\n",
      " Layer (type)                Output Shape              Param #   \n",
      "=================================================================\n",
      " input_1 (InputLayer)        [(None, 200, 200, 3)]     0         \n",
      "                                                                 \n",
      " block1_conv1 (Conv2D)       (None, 200, 200, 64)      1792      \n",
      "                                                                 \n",
      " block1_conv2 (Conv2D)       (None, 200, 200, 64)      36928     \n",
      "                                                                 \n",
      " block1_pool (MaxPooling2D)  (None, 100, 100, 64)      0         \n",
      "                                                                 \n",
      " block2_conv1 (Conv2D)       (None, 100, 100, 128)     73856     \n",
      "                                                                 \n",
      " block2_conv2 (Conv2D)       (None, 100, 100, 128)     147584    \n",
      "                                                                 \n",
      " block2_pool (MaxPooling2D)  (None, 50, 50, 128)       0         \n",
      "                                                                 \n",
      " block3_conv1 (Conv2D)       (None, 50, 50, 256)       295168    \n",
      "                                                                 \n",
      " block3_conv2 (Conv2D)       (None, 50, 50, 256)       590080    \n",
      "                                                                 \n",
      " block3_conv3 (Conv2D)       (None, 50, 50, 256)       590080    \n",
      "                                                                 \n",
      " block3_pool (MaxPooling2D)  (None, 25, 25, 256)       0         \n",
      "                                                                 \n",
      " block4_conv1 (Conv2D)       (None, 25, 25, 512)       1180160   \n",
      "                                                                 \n",
      " block4_conv2 (Conv2D)       (None, 25, 25, 512)       2359808   \n",
      "                                                                 \n",
      " block4_conv3 (Conv2D)       (None, 25, 25, 512)       2359808   \n",
      "                                                                 \n",
      " block4_pool (MaxPooling2D)  (None, 12, 12, 512)       0         \n",
      "                                                                 \n",
      " block5_conv1 (Conv2D)       (None, 12, 12, 512)       2359808   \n",
      "                                                                 \n",
      " block5_conv2 (Conv2D)       (None, 12, 12, 512)       2359808   \n",
      "                                                                 \n",
      " block5_conv3 (Conv2D)       (None, 12, 12, 512)       2359808   \n",
      "                                                                 \n",
      " block5_pool (MaxPooling2D)  (None, 6, 6, 512)         0         \n",
      "                                                                 \n",
      "=================================================================\n",
      "Total params: 14,714,688\n",
      "Trainable params: 14,714,688\n",
      "Non-trainable params: 0\n",
      "_________________________________________________________________\n"
     ]
    }
   ],
   "source": [
    "conv_base.summary()"
   ]
  },
  {
   "cell_type": "code",
   "execution_count": 6,
   "metadata": {},
   "outputs": [],
   "source": [
    "resize_= keras.Sequential([\n",
    "    keras.layers.experimental.preprocessing.Rescaling(1.0/255)\n",
    "])"
   ]
  },
  {
   "cell_type": "code",
   "execution_count": 7,
   "metadata": {},
   "outputs": [],
   "source": [
    "model = keras.Sequential([\n",
    "    resize_,\n",
    "    conv_base,\n",
    "    layers.Flatten(),\n",
    "    layers.Dense(126,activation='relu'),\n",
    "    #add last layer with softmax for 6 possible outputs\n",
    "    layers.Dense(9,activation='softmax')\n",
    "])"
   ]
  },
  {
   "cell_type": "code",
   "execution_count": 8,
   "metadata": {},
   "outputs": [],
   "source": [
    "conv_base.trainable = False"
   ]
  },
  {
   "cell_type": "code",
   "execution_count": 9,
   "metadata": {},
   "outputs": [],
   "source": [
    "model.build((None,200,200,3))"
   ]
  },
  {
   "cell_type": "code",
   "execution_count": 10,
   "metadata": {},
   "outputs": [
    {
     "name": "stdout",
     "output_type": "stream",
     "text": [
      "Model: \"sequential_1\"\n",
      "_________________________________________________________________\n",
      " Layer (type)                Output Shape              Param #   \n",
      "=================================================================\n",
      " sequential (Sequential)     (None, 200, 200, 3)       0         \n",
      "                                                                 \n",
      " vgg16 (Functional)          (None, 6, 6, 512)         14714688  \n",
      "                                                                 \n",
      " flatten (Flatten)           (None, 18432)             0         \n",
      "                                                                 \n",
      " dense (Dense)               (None, 126)               2322558   \n",
      "                                                                 \n",
      " dense_1 (Dense)             (None, 9)                 1143      \n",
      "                                                                 \n",
      "=================================================================\n",
      "Total params: 17,038,389\n",
      "Trainable params: 2,323,701\n",
      "Non-trainable params: 14,714,688\n",
      "_________________________________________________________________\n"
     ]
    }
   ],
   "source": [
    "model.summary()"
   ]
  },
  {
   "cell_type": "code",
   "execution_count": 11,
   "metadata": {},
   "outputs": [
    {
     "name": "stdout",
     "output_type": "stream",
     "text": [
      "battery folder contains 945 images.\n",
      "biological folder contains 985 images.\n",
      "brown-glass folder contains 607 images.\n",
      "cardboard folder contains 891 images.\n",
      "metal folder contains 769 images.\n",
      "paper folder contains 1050 images.\n",
      "plastic folder contains 865 images.\n",
      "trash folder contains 697 images.\n",
      "white-glass folder contains 775 images.\n",
      "\n",
      "The images in the dataset have different dimensions or color channels.\n"
     ]
    }
   ],
   "source": [
    "# Define the path where our dataset is stored\n",
    "dataset_path = './dataset2/garbage_classification'\n",
    "\n",
    "# Retrieve the names of all folders (representing trash types) within the dataset directory\n",
    "garbage_types = os.listdir(dataset_path)\n",
    "\n",
    "# Set to store unique image dimensions for the entire dataset\n",
    "all_dimensions_set = set()\n",
    "\n",
    "# Iterate over each trash type (folder) to process images\n",
    "for garbage_type in garbage_types:\n",
    "    folder_path = os.path.join(dataset_path, garbage_type)\n",
    "    \n",
    "    # Verify that the current item is a directory\n",
    "    if os.path.isdir(folder_path):\n",
    "        image_files = [f for f in os.listdir(folder_path) if f.endswith(('jpg', 'jpeg'))]\n",
    "        \n",
    "        # Display the count of images in the current folder\n",
    "        num_images = len(image_files)\n",
    "        print(f\"{garbage_type} folder contains {num_images} images.\")\n",
    "        \n",
    "        # Loop over each image to check its dimensions\n",
    "        for image_file in image_files:\n",
    "            image_path = os.path.join(folder_path, image_file)\n",
    "            with Image.open(image_path) as img:\n",
    "                # Extract the width, height, and channels (color depth) of the image and add to the dimensions set\n",
    "                width, height = img.size\n",
    "                channels = len(img.getbands())\n",
    "                all_dimensions_set.add((width, height, channels))\n",
    "                \n",
    "# Determine if all images in the entore dataset have the same dimensions \n",
    "if len(all_dimensions_set) == 1: \n",
    "    width, height, channel = all_dimensions_set.pop()\n",
    "    print(f\"\\nAll images in the dataset have the same dimensions: {width}x{height} with {channels} color channels.\")\n",
    "else:\n",
    "    print(\"\\nThe images in the dataset have different dimensions or color channels.\")"
   ]
  },
  {
   "cell_type": "code",
   "execution_count": 12,
   "metadata": {},
   "outputs": [
    {
     "data": {
      "text/html": [
       "<div>\n",
       "<style scoped>\n",
       "    .dataframe tbody tr th:only-of-type {\n",
       "        vertical-align: middle;\n",
       "    }\n",
       "\n",
       "    .dataframe tbody tr th {\n",
       "        vertical-align: top;\n",
       "    }\n",
       "\n",
       "    .dataframe thead th {\n",
       "        text-align: right;\n",
       "    }\n",
       "</style>\n",
       "<table border=\"1\" class=\"dataframe\">\n",
       "  <thead>\n",
       "    <tr style=\"text-align: right;\">\n",
       "      <th></th>\n",
       "      <th>filepath</th>\n",
       "      <th>label</th>\n",
       "    </tr>\n",
       "  </thead>\n",
       "  <tbody>\n",
       "    <tr>\n",
       "      <th>0</th>\n",
       "      <td>./archive/garbage_classification\\battery\\batte...</td>\n",
       "      <td>battery</td>\n",
       "    </tr>\n",
       "    <tr>\n",
       "      <th>1</th>\n",
       "      <td>./archive/garbage_classification\\battery\\batte...</td>\n",
       "      <td>battery</td>\n",
       "    </tr>\n",
       "    <tr>\n",
       "      <th>2</th>\n",
       "      <td>./archive/garbage_classification\\battery\\batte...</td>\n",
       "      <td>battery</td>\n",
       "    </tr>\n",
       "    <tr>\n",
       "      <th>3</th>\n",
       "      <td>./archive/garbage_classification\\battery\\batte...</td>\n",
       "      <td>battery</td>\n",
       "    </tr>\n",
       "    <tr>\n",
       "      <th>4</th>\n",
       "      <td>./archive/garbage_classification\\battery\\batte...</td>\n",
       "      <td>battery</td>\n",
       "    </tr>\n",
       "  </tbody>\n",
       "</table>\n",
       "</div>"
      ],
      "text/plain": [
       "                                            filepath    label\n",
       "0  ./archive/garbage_classification\\battery\\batte...  battery\n",
       "1  ./archive/garbage_classification\\battery\\batte...  battery\n",
       "2  ./archive/garbage_classification\\battery\\batte...  battery\n",
       "3  ./archive/garbage_classification\\battery\\batte...  battery\n",
       "4  ./archive/garbage_classification\\battery\\batte...  battery"
      ]
     },
     "execution_count": 12,
     "metadata": {},
     "output_type": "execute_result"
    }
   ],
   "source": [
    "# Initialize an empty list to store image file paths and their respective labels\n",
    "data = []\n",
    "\n",
    "# Loop through each garbage type and collect its images' file paths\n",
    "for garbage_type in garbage_types:\n",
    "    for file in os.listdir(os.path.join(dataset_path, garbage_type)):\n",
    "        # Append the image file path and its trash type (as a label) to the data list\n",
    "        data.append((os.path.join(dataset_path, garbage_type, file), garbage_type))\n",
    "\n",
    "# Convert the collected data into a DataFrame\n",
    "df = pd.DataFrame(data, columns=['filepath', 'label'])\n",
    "\n",
    "# Display the first few entries of the DataFrame\n",
    "df.head()"
   ]
  },
  {
   "cell_type": "code",
   "execution_count": 13,
   "metadata": {},
   "outputs": [],
   "source": [
    "from sklearn.model_selection import train_test_split"
   ]
  },
  {
   "cell_type": "code",
   "execution_count": 14,
   "metadata": {},
   "outputs": [
    {
     "name": "stdout",
     "output_type": "stream",
     "text": [
      "Number of images in the training set: 6067\n",
      "Number of images in the validation set: 1517\n"
     ]
    }
   ],
   "source": [
    "train_df, val_df = train_test_split(df, test_size=0.2, random_state=42, stratify=df['label'])\n",
    "\n",
    "# Print the number of images in each set\n",
    "print(f\"Number of images in the training set: {len(train_df)}\")\n",
    "print(f\"Number of images in the validation set: {len(val_df)}\")"
   ]
  },
  {
   "cell_type": "code",
   "execution_count": 15,
   "metadata": {},
   "outputs": [],
   "source": [
    "from tensorflow.keras.preprocessing.image import ImageDataGenerator"
   ]
  },
  {
   "cell_type": "code",
   "execution_count": 16,
   "metadata": {},
   "outputs": [],
   "source": [
    "# train_datagen = ImageDataGenerator(\n",
    "#     rescale=1./255,                     # Normalize pixel values to [0,1]\n",
    "#     rotation_range=45,                  # Randomly rotate the images by up to 45 degrees\n",
    "#     width_shift_range=0.15,             # Randomly shift images horizontally by up to 15% of the width\n",
    "#     height_shift_range=0.15,            # Randomly shift images vertically by up to 15% of the height\n",
    "#     zoom_range=0.15,                    # Randomly zoom in or out by up to 15%\n",
    "#     horizontal_flip=True,               # Randomly flip images horizontally\n",
    "#     vertical_flip=True,                 # Randomly flip images vertically\n",
    "#     shear_range=0.05,                   # Apply slight shear transformations\n",
    "#     brightness_range=[0.9, 1.1],        # Vary brightness between 90% to 110% of original\n",
    "#     channel_shift_range=10,             # Randomly shift channels (can change colors of images slightly but less aggressively)\n",
    "#     fill_mode='nearest'                 # Fill in missing pixels using the nearest filled value\n",
    "# )\n",
    "\n",
    "# val_datagen = ImageDataGenerator( rescale=1./255)"
   ]
  },
  {
   "cell_type": "code",
   "execution_count": 17,
   "metadata": {},
   "outputs": [],
   "source": [
    "train_datagen= ImageDataGenerator()\n",
    "val_datagen= ImageDataGenerator()"
   ]
  },
  {
   "cell_type": "code",
   "execution_count": 18,
   "metadata": {},
   "outputs": [
    {
     "name": "stdout",
     "output_type": "stream",
     "text": [
      "Found 6067 validated image filenames belonging to 9 classes.\n",
      "Found 1517 validated image filenames belonging to 9 classes.\n"
     ]
    }
   ],
   "source": [
    "train_generator = train_datagen.flow_from_dataframe(\n",
    "    dataframe=train_df,                  # DataFrame containing training data\n",
    "    x_col=\"filepath\",                    # Column with paths to image files\n",
    "    y_col=\"label\",                       # Column with image labels\n",
    "    target_size=(200, 200),              # Resize all images to size of 384x384\n",
    "    batch_size=32,                       # Number of images per batch\n",
    "    class_mode='categorical',            # One-hot encode labels\n",
    "    seed=42,                             # Seed for random number generator to ensure reproducibility\n",
    "    shuffle=False                        # Data is not shuffled; order retained from DataFrame\n",
    ")\n",
    "\n",
    "\n",
    "# Generate validation batches from the validation dataframe\n",
    "val_generator = val_datagen.flow_from_dataframe(\n",
    "    dataframe=val_df,                    # DataFrame containing validation data\n",
    "    x_col=\"filepath\",                    # Column with paths to image files\n",
    "    y_col=\"label\",                       # Column with image labels\n",
    "    target_size=(200, 200),              # Resize all images to size of 384x384\n",
    "    batch_size=32,                       # Number of images per batch\n",
    "    class_mode='categorical',            # One-hot encode labels\n",
    "    seed=42,                             # Seed for random number generator to ensure reproducibility\n",
    "    shuffle=False                        # Data is not shuffled; order retained from DataFrame\n",
    ")\n",
    "\n",
    "\n"
   ]
  },
  {
   "cell_type": "code",
   "execution_count": 19,
   "metadata": {},
   "outputs": [],
   "source": [
    "model.compile(\n",
    "    optimizer='adam',\n",
    "    loss='categorical_crossentropy',\n",
    "    metrics=['accuracy'],\n",
    ")"
   ]
  },
  {
   "cell_type": "code",
   "execution_count": 20,
   "metadata": {},
   "outputs": [
    {
     "name": "stdout",
     "output_type": "stream",
     "text": [
      "Epoch 1/10\n",
      "190/190 [==============================] - 142s 447ms/step - loss: 0.9522 - accuracy: 0.6934 - val_loss: 0.6212 - val_accuracy: 0.7851\n",
      "Epoch 2/10\n",
      "190/190 [==============================] - 39s 206ms/step - loss: 0.3958 - accuracy: 0.8632 - val_loss: 0.5355 - val_accuracy: 0.8279\n",
      "Epoch 3/10\n",
      "190/190 [==============================] - 42s 220ms/step - loss: 0.2236 - accuracy: 0.9293 - val_loss: 0.5076 - val_accuracy: 0.8233\n",
      "Epoch 4/10\n",
      "190/190 [==============================] - 44s 233ms/step - loss: 0.1322 - accuracy: 0.9652 - val_loss: 0.5583 - val_accuracy: 0.8141\n",
      "Epoch 5/10\n",
      "190/190 [==============================] - 47s 247ms/step - loss: 0.0870 - accuracy: 0.9787 - val_loss: 0.4928 - val_accuracy: 0.8359\n",
      "Epoch 6/10\n",
      "190/190 [==============================] - 47s 249ms/step - loss: 0.0503 - accuracy: 0.9911 - val_loss: 0.5500 - val_accuracy: 0.8167\n",
      "Epoch 7/10\n",
      "190/190 [==============================] - 47s 245ms/step - loss: 0.0329 - accuracy: 0.9955 - val_loss: 0.5396 - val_accuracy: 0.8253\n",
      "Epoch 8/10\n",
      "190/190 [==============================] - 46s 240ms/step - loss: 0.0283 - accuracy: 0.9954 - val_loss: 0.5485 - val_accuracy: 0.8425\n",
      "Epoch 9/10\n",
      "190/190 [==============================] - 47s 249ms/step - loss: 0.0231 - accuracy: 0.9969 - val_loss: 0.5424 - val_accuracy: 0.8425\n",
      "Epoch 10/10\n",
      "190/190 [==============================] - 47s 249ms/step - loss: 0.0185 - accuracy: 0.9974 - val_loss: 0.5616 - val_accuracy: 0.8418\n"
     ]
    }
   ],
   "source": [
    "hist= model.fit(\n",
    "    train_generator,\n",
    "    epochs=10,\n",
    "    validation_data=val_generator,\n",
    "    batch_size=32\n",
    ")"
   ]
  },
  {
   "cell_type": "code",
   "execution_count": 21,
   "metadata": {},
   "outputs": [
    {
     "data": {
      "image/png": "[encoded data removed]",
      "text/plain": [
       "<Figure size 640x480 with 1 Axes>"
      ]
     },
     "metadata": {},
     "output_type": "display_data"
    },
    {
     "data": {
      "image/png": "[encoded data removed]",
      "text/plain": [
       "<Figure size 640x480 with 1 Axes>"
      ]
     },
     "metadata": {},
     "output_type": "display_data"
    }
   ],
   "source": [
    "#create graph of accuracy and loss over time\n",
    "import matplotlib.pyplot as plt\n",
    "\n",
    "plt.plot(hist.history[\"accuracy\"])\n",
    "plt.plot(hist.history[\"val_accuracy\"])\n",
    "plt.title(\"model accuracy\")\n",
    "plt.ylabel(\"accuracy\")\n",
    "plt.xlabel(\"epoch\")\n",
    "plt.legend([\"train\",\"validation\"],loc=\"upper left\")\n",
    "plt.show()\n",
    "\n",
    "plt.plot(hist.history[\"loss\"])\n",
    "plt.plot(hist.history[\"val_loss\"])\n",
    "plt.title(\"model loss\")\n",
    "plt.ylabel(\"loss\")\n",
    "plt.xlabel(\"epoch\")\n",
    "plt.legend([\"train\",\"validation\"],loc=\"upper left\")\n",
    "plt.show()\n",
    "\n"
   ]
  },
  {
   "cell_type": "code",
   "execution_count": 22,
   "metadata": {},
   "outputs": [],
   "source": [
    "model.save(\"model_trained.h5\")"
   ]
  }
 ],
 "metadata": {
  "kernelspec": {
   "display_name": "odtf",
   "language": "python",
   "name": "python3"
  },
  "language_info": {
   "codemirror_mode": {
    "name": "ipython",
    "version": 3
   },
   "file_extension": ".py",
   "mimetype": "text/x-python",
   "name": "python",
   "nbconvert_exporter": "python",
   "pygments_lexer": "ipython3",
   "version": "3.10.13"
  }
 },
 "nbformat": 4,
 "nbformat_minor": 2
}
