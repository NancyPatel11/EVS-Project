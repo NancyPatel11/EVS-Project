{
 "cells": [
  {
   "cell_type": "markdown",
   "id": "0adcf08c",
   "metadata": {
    "papermill": {
     "duration": 0.011875,
     "end_time": "2024-03-11T02:07:40.969146",
     "exception": false,
     "start_time": "2024-03-11T02:07:40.957271",
     "status": "completed"
    },
    "tags": []
   },
   "source": [
    "<a id=\"1\"></a>\n",
    "# **<center><span style=\"color:#005dc4;\">Import Libraries</span></center>**"
   ]
  },
  {
   "cell_type": "code",
   "execution_count": null,
   "id": "40fb6489",
   "metadata": {
    "execution": {
     "iopub.execute_input": "2024-03-11T02:07:40.995071Z",
     "iopub.status.busy": "2024-03-11T02:07:40.994733Z",
     "iopub.status.idle": "2024-03-11T02:07:53.451631Z",
     "shell.execute_reply": "2024-03-11T02:07:53.450762Z"
    },
    "papermill": {
     "duration": 12.472956,
     "end_time": "2024-03-11T02:07:53.454172",
     "exception": false,
     "start_time": "2024-03-11T02:07:40.981216",
     "status": "completed"
    },
    "tags": []
   },
   "outputs": [],
   "source": [
    "import numpy as np\n",
    "import pandas as pd\n",
    "import os\n",
    "import cv2\n",
    "import matplotlib.pyplot as plt\n",
    "import seaborn as sns\n",
    "import tensorflow as tf\n",
    "import keras \n",
    "from tqdm import tqdm\n",
    "from keras.callbacks import EarlyStopping,ModelCheckpoint\n",
    "from sklearn.metrics import confusion_matrix , accuracy_score\n",
    "from sklearn.metrics import classification_report\n",
    "from sklearn.model_selection import train_test_split\n",
    "from sklearn.preprocessing import LabelEncoder\n",
    "import glob \n",
    "import pandas as pan\n",
    "import matplotlib.pyplot as plotter\n",
    "import warnings\n",
    "warnings.filterwarnings('ignore')"
   ]
  },
  {
   "cell_type": "markdown",
   "id": "1d26ef4e",
   "metadata": {
    "papermill": {
     "duration": 0.012138,
     "end_time": "2024-03-11T02:07:53.479540",
     "exception": false,
     "start_time": "2024-03-11T02:07:53.467402",
     "status": "completed"
    },
    "tags": []
   },
   "source": [
    "<a id=\"2\"></a>\n",
    "# **<center><span style=\"color:#005dc4;\">Read Dataset</span></center>**"
   ]
  },
  {
   "cell_type": "code",
   "execution_count": null,
   "id": "4d799343",
   "metadata": {
    "execution": {
     "iopub.execute_input": "2024-03-11T02:07:53.504862Z",
     "iopub.status.busy": "2024-03-11T02:07:53.504279Z",
     "iopub.status.idle": "2024-03-11T02:07:53.536067Z",
     "shell.execute_reply": "2024-03-11T02:07:53.535048Z"
    },
    "papermill": {
     "duration": 0.046588,
     "end_time": "2024-03-11T02:07:53.538070",
     "exception": false,
     "start_time": "2024-03-11T02:07:53.491482",
     "status": "completed"
    },
    "tags": []
   },
   "outputs": [],
   "source": [
    "#Create Files_Name\n",
    "image_data= 'dataset2/garbage_classification'\n",
    "pd.DataFrame(os.listdir(image_data),columns=['Files_Name'])"
   ]
  },
  {
   "cell_type": "code",
   "execution_count": null,
   "id": "bb685347",
   "metadata": {
    "execution": {
     "iopub.execute_input": "2024-03-11T02:07:53.562844Z",
     "iopub.status.busy": "2024-03-11T02:07:53.562563Z",
     "iopub.status.idle": "2024-03-11T02:07:55.759435Z",
     "shell.execute_reply": "2024-03-11T02:07:55.758347Z"
    },
    "papermill": {
     "duration": 2.211631,
     "end_time": "2024-03-11T02:07:55.761620",
     "exception": false,
     "start_time": "2024-03-11T02:07:53.549989",
     "status": "completed"
    },
    "tags": []
   },
   "outputs": [],
   "source": [
    "files = [i for i in glob.glob(image_data + \"//*//*\")]\n",
    "np.random.shuffle(files)\n",
    "labels = [os.path.dirname(i).split(\"/\")[-1] for i in files]\n",
    "data = zip(files, labels)\n",
    "dataframe = pan.DataFrame(data, columns = [\"Image\", \"Label\"])\n",
    "dataframe"
   ]
  },
  {
   "cell_type": "markdown",
   "id": "45adc88c",
   "metadata": {
    "papermill": {
     "duration": 0.012217,
     "end_time": "2024-03-11T02:07:55.786381",
     "exception": false,
     "start_time": "2024-03-11T02:07:55.774164",
     "status": "completed"
    },
    "tags": []
   },
   "source": [
    "<a id=\"3\"></a>\n",
    "# **<center><span style=\"color:#005dc4;\">Visualization</span></center>**"
   ]
  },
  {
   "cell_type": "code",
   "execution_count": null,
   "id": "d708d4e8",
   "metadata": {
    "execution": {
     "iopub.execute_input": "2024-03-11T02:07:55.813845Z",
     "iopub.status.busy": "2024-03-11T02:07:55.813103Z",
     "iopub.status.idle": "2024-03-11T02:07:56.183800Z",
     "shell.execute_reply": "2024-03-11T02:07:56.182859Z"
    },
    "papermill": {
     "duration": 0.387098,
     "end_time": "2024-03-11T02:07:56.186017",
     "exception": false,
     "start_time": "2024-03-11T02:07:55.798919",
     "status": "completed"
    },
    "tags": []
   },
   "outputs": [],
   "source": [
    "sns.countplot(x = dataframe[\"Label\"])\n",
    "plotter.xticks(rotation = 50);"
   ]
  },
  {
   "cell_type": "markdown",
   "id": "984b38d4",
   "metadata": {
    "papermill": {
     "duration": 0.013109,
     "end_time": "2024-03-11T02:07:56.212709",
     "exception": false,
     "start_time": "2024-03-11T02:07:56.199600",
     "status": "completed"
    },
    "tags": []
   },
   "source": [
    "<a id=\"4\"></a>\n",
    "# **<center><span style=\"color:#005dc4;\">Split Dataset</span></center>**"
   ]
  },
  {
   "cell_type": "code",
   "execution_count": null,
   "id": "9b63c7b1",
   "metadata": {
    "execution": {
     "iopub.execute_input": "2024-03-11T02:07:56.240660Z",
     "iopub.status.busy": "2024-03-11T02:07:56.240376Z",
     "iopub.status.idle": "2024-03-11T02:07:56.244732Z",
     "shell.execute_reply": "2024-03-11T02:07:56.243913Z"
    },
    "papermill": {
     "duration": 0.0206,
     "end_time": "2024-03-11T02:07:56.246709",
     "exception": false,
     "start_time": "2024-03-11T02:07:56.226109",
     "status": "completed"
    },
    "tags": []
   },
   "outputs": [],
   "source": [
    "train_data_dir =image_data\n",
    "batch_size = 128                           # de 32 para 128\n",
    "target_size = (224,224)\n",
    "validation_split = 0.2"
   ]
  },
  {
   "cell_type": "code",
   "execution_count": null,
   "id": "821adea8",
   "metadata": {
    "execution": {
     "iopub.execute_input": "2024-03-11T02:07:56.274486Z",
     "iopub.status.busy": "2024-03-11T02:07:56.274208Z",
     "iopub.status.idle": "2024-03-11T02:08:09.814549Z",
     "shell.execute_reply": "2024-03-11T02:08:09.813529Z"
    },
    "papermill": {
     "duration": 13.556397,
     "end_time": "2024-03-11T02:08:09.816457",
     "exception": false,
     "start_time": "2024-03-11T02:07:56.260060",
     "status": "completed"
    },
    "tags": []
   },
   "outputs": [],
   "source": [
    "\n",
    "train= tf.keras.preprocessing.image_dataset_from_directory(\n",
    "    train_data_dir,\n",
    "    validation_split=validation_split,\n",
    "    subset=\"training\",\n",
    "    seed=50,                                                         # de 100 para 50\n",
    "    image_size=target_size,\n",
    "    batch_size=batch_size,\n",
    ")\n",
    "validation= tf.keras.preprocessing.image_dataset_from_directory(\n",
    "    train_data_dir,\n",
    "    validation_split=validation_split,\n",
    "    subset=\"validation\",\n",
    "    seed=100,                                                         # de 200 para 100\n",
    "    image_size=target_size,\n",
    "    batch_size=batch_size,\n",
    ")"
   ]
  },
  {
   "cell_type": "code",
   "execution_count": null,
   "id": "0915cf1c",
   "metadata": {
    "execution": {
     "iopub.execute_input": "2024-03-11T02:08:09.845071Z",
     "iopub.status.busy": "2024-03-11T02:08:09.844756Z",
     "iopub.status.idle": "2024-03-11T02:08:09.851981Z",
     "shell.execute_reply": "2024-03-11T02:08:09.851008Z"
    },
    "papermill": {
     "duration": 0.023668,
     "end_time": "2024-03-11T02:08:09.853852",
     "exception": false,
     "start_time": "2024-03-11T02:08:09.830184",
     "status": "completed"
    },
    "tags": []
   },
   "outputs": [],
   "source": [
    "class_names = train.class_names\n",
    "class_names"
   ]
  },
  {
   "cell_type": "code",
   "execution_count": null,
   "id": "0c9f7bc3",
   "metadata": {
    "execution": {
     "iopub.execute_input": "2024-03-11T02:08:09.881839Z",
     "iopub.status.busy": "2024-03-11T02:08:09.881534Z",
     "iopub.status.idle": "2024-03-11T02:08:12.536579Z",
     "shell.execute_reply": "2024-03-11T02:08:12.535626Z"
    },
    "papermill": {
     "duration": 2.671685,
     "end_time": "2024-03-11T02:08:12.539271",
     "exception": false,
     "start_time": "2024-03-11T02:08:09.867586",
     "status": "completed"
    },
    "tags": []
   },
   "outputs": [],
   "source": [
    "plt.figure(figsize=(10, 10))\n",
    "for images, labels in train.take(1):\n",
    "    for i in range(8):\n",
    "        ax = plt.subplot(8, 4, i + 1)\n",
    "        plt.imshow(images[i].numpy().astype(\"uint8\"))\n",
    "        plt.title(class_names[labels[i]])\n",
    "        plt.axis(\"off\")"
   ]
  },
  {
   "cell_type": "markdown",
   "id": "ae00908a",
   "metadata": {
    "papermill": {
     "duration": 0.015362,
     "end_time": "2024-03-11T02:08:12.570794",
     "exception": false,
     "start_time": "2024-03-11T02:08:12.555432",
     "status": "completed"
    },
    "tags": []
   },
   "source": [
    "<a id=\"5\"></a>\n",
    "# **<center><span style=\"color:#005dc4;\">Modeling</span></center>**"
   ]
  },
  {
   "cell_type": "code",
   "execution_count": null,
   "id": "6d04ab34",
   "metadata": {
    "execution": {
     "iopub.execute_input": "2024-03-11T02:08:12.604863Z",
     "iopub.status.busy": "2024-03-11T02:08:12.604000Z",
     "iopub.status.idle": "2024-03-11T02:08:16.987102Z",
     "shell.execute_reply": "2024-03-11T02:08:16.986189Z"
    },
    "papermill": {
     "duration": 4.402479,
     "end_time": "2024-03-11T02:08:16.989413",
     "exception": false,
     "start_time": "2024-03-11T02:08:12.586934",
     "status": "completed"
    },
    "tags": []
   },
   "outputs": [],
   "source": [
    "base_model = tf.keras.applications.EfficientNetV2B1(input_shape=(224,224,3),include_top=False,weights='imagenet')\n",
    "base_model.trainable = False\n",
    "keras_model=keras.models.Sequential()\n",
    "keras_model.add(base_model)\n",
    "keras_model.add(keras.layers.Flatten()) \n",
    "keras_model.add(keras.layers.Dropout(0.5))\n",
    "keras_model.add(keras.layers.Dense(12,activation=tf.nn.softmax))     #12 classes\n",
    "keras_model.summary()"
   ]
  },
  {
   "cell_type": "code",
   "execution_count": null,
   "id": "06b6cf6d",
   "metadata": {
    "execution": {
     "iopub.execute_input": "2024-03-11T02:08:17.026484Z",
     "iopub.status.busy": "2024-03-11T02:08:17.026194Z",
     "iopub.status.idle": "2024-03-11T02:08:17.303703Z",
     "shell.execute_reply": "2024-03-11T02:08:17.302692Z"
    },
    "papermill": {
     "duration": 0.298604,
     "end_time": "2024-03-11T02:08:17.306031",
     "exception": false,
     "start_time": "2024-03-11T02:08:17.007427",
     "status": "completed"
    },
    "tags": []
   },
   "outputs": [],
   "source": [
    "tf.keras.utils.plot_model(keras_model, to_file='model.png', show_shapes=True, show_layer_names=True,show_dtype=True,dpi=100)"
   ]
  },
  {
   "cell_type": "code",
   "execution_count": null,
   "id": "febbd0ac",
   "metadata": {
    "execution": {
     "iopub.execute_input": "2024-03-11T02:08:17.349792Z",
     "iopub.status.busy": "2024-03-11T02:08:17.349073Z",
     "iopub.status.idle": "2024-03-11T02:08:17.353454Z",
     "shell.execute_reply": "2024-03-11T02:08:17.352583Z"
    },
    "papermill": {
     "duration": 0.027289,
     "end_time": "2024-03-11T02:08:17.355266",
     "exception": false,
     "start_time": "2024-03-11T02:08:17.327977",
     "status": "completed"
    },
    "tags": []
   },
   "outputs": [],
   "source": [
    "checkpoint = ModelCheckpoint(\"model_trained_effnet.h5\", save_best_only=True)"
   ]
  },
  {
   "cell_type": "code",
   "execution_count": null,
   "id": "1dda1a26",
   "metadata": {
    "execution": {
     "iopub.execute_input": "2024-03-11T02:08:17.395841Z",
     "iopub.status.busy": "2024-03-11T02:08:17.395563Z",
     "iopub.status.idle": "2024-03-11T02:08:17.399899Z",
     "shell.execute_reply": "2024-03-11T02:08:17.399063Z"
    },
    "papermill": {
     "duration": 0.026695,
     "end_time": "2024-03-11T02:08:17.401796",
     "exception": false,
     "start_time": "2024-03-11T02:08:17.375101",
     "status": "completed"
    },
    "tags": []
   },
   "outputs": [],
   "source": [
    "early_stopping = EarlyStopping(patience=10, restore_best_weights=True)    # patience de 5 para 10"
   ]
  },
  {
   "cell_type": "code",
   "execution_count": null,
   "id": "07ea8e21",
   "metadata": {
    "execution": {
     "iopub.execute_input": "2024-03-11T02:08:17.442660Z",
     "iopub.status.busy": "2024-03-11T02:08:17.442385Z",
     "iopub.status.idle": "2024-03-11T02:08:17.464371Z",
     "shell.execute_reply": "2024-03-11T02:08:17.463461Z"
    },
    "papermill": {
     "duration": 0.044387,
     "end_time": "2024-03-11T02:08:17.466429",
     "exception": false,
     "start_time": "2024-03-11T02:08:17.422042",
     "status": "completed"
    },
    "tags": []
   },
   "outputs": [],
   "source": [
    "keras_model.compile(optimizer ='Adam',loss='sparse_categorical_crossentropy', metrics=['accuracy'])"
   ]
  },
  {
   "cell_type": "code",
   "execution_count": null,
   "id": "ad101faf",
   "metadata": {
    "execution": {
     "iopub.execute_input": "2024-03-11T02:08:17.506812Z",
     "iopub.status.busy": "2024-03-11T02:08:17.506531Z",
     "iopub.status.idle": "2024-03-11T02:13:57.437834Z",
     "shell.execute_reply": "2024-03-11T02:13:57.436787Z"
    },
    "papermill": {
     "duration": 340.011835,
     "end_time": "2024-03-11T02:13:57.498189",
     "exception": false,
     "start_time": "2024-03-11T02:08:17.486354",
     "status": "completed"
    },
    "tags": []
   },
   "outputs": [],
   "source": [
    "\n",
    "hist=keras_model.fit_generator(train,epochs=10,validation_data=validation,callbacks=[checkpoint,early_stopping])"
   ]
  },
  {
   "cell_type": "code",
   "execution_count": null,
   "id": "0b411873",
   "metadata": {
    "execution": {
     "iopub.execute_input": "2024-03-11T02:13:57.690677Z",
     "iopub.status.busy": "2024-03-11T02:13:57.690313Z",
     "iopub.status.idle": "2024-03-11T02:14:07.944013Z",
     "shell.execute_reply": "2024-03-11T02:14:07.942954Z"
    },
    "papermill": {
     "duration": 10.352356,
     "end_time": "2024-03-11T02:14:07.946537",
     "exception": false,
     "start_time": "2024-03-11T02:13:57.594181",
     "status": "completed"
    },
    "tags": []
   },
   "outputs": [],
   "source": [
    "score, acc = keras_model.evaluate(validation)\n",
    "print('Test Loss =', score)\n",
    "print('Test Accuracy =', acc)"
   ]
  },
  {
   "cell_type": "code",
   "execution_count": null,
   "id": "3c78810b",
   "metadata": {
    "execution": {
     "iopub.execute_input": "2024-03-11T02:14:08.146721Z",
     "iopub.status.busy": "2024-03-11T02:14:08.145983Z",
     "iopub.status.idle": "2024-03-11T02:14:08.159622Z",
     "shell.execute_reply": "2024-03-11T02:14:08.158719Z"
    },
    "papermill": {
     "duration": 0.11606,
     "end_time": "2024-03-11T02:14:08.161592",
     "exception": false,
     "start_time": "2024-03-11T02:14:08.045532",
     "status": "completed"
    },
    "tags": []
   },
   "outputs": [],
   "source": [
    "hist_=pd.DataFrame(hist.history)\n",
    "hist_"
   ]
  },
  {
   "cell_type": "code",
   "execution_count": null,
   "id": "a403be39",
   "metadata": {
    "execution": {
     "iopub.execute_input": "2024-03-11T02:14:08.370430Z",
     "iopub.status.busy": "2024-03-11T02:14:08.369514Z",
     "iopub.status.idle": "2024-03-11T02:14:08.960220Z",
     "shell.execute_reply": "2024-03-11T02:14:08.959266Z"
    },
    "papermill": {
     "duration": 0.695579,
     "end_time": "2024-03-11T02:14:08.962381",
     "exception": false,
     "start_time": "2024-03-11T02:14:08.266802",
     "status": "completed"
    },
    "tags": []
   },
   "outputs": [],
   "source": [
    "plt.figure(figsize=(15,5))\n",
    "plt.subplot(1,2,1)\n",
    "plt.plot(hist_['loss'],label='Train_Loss')\n",
    "plt.plot(hist_['val_loss'],label='Validation_Loss')\n",
    "plt.title('Train_Loss & Validation_Loss',fontsize=20)\n",
    "plt.legend()\n",
    "plt.subplot(1,2,2)\n",
    "plt.plot(hist_['accuracy'],label='Train_Accuracy')\n",
    "plt.plot(hist_['val_accuracy'],label='Validation_Accuracy')\n",
    "plt.title('Train_Accuracy & Validation_Accuracy',fontsize=20)\n",
    "plt.legend()"
   ]
  },
  {
   "cell_type": "code",
   "execution_count": null,
   "id": "888de671",
   "metadata": {
    "execution": {
     "iopub.execute_input": "2024-03-11T02:14:09.162044Z",
     "iopub.status.busy": "2024-03-11T02:14:09.161699Z",
     "iopub.status.idle": "2024-03-11T02:14:25.226791Z",
     "shell.execute_reply": "2024-03-11T02:14:25.225805Z"
    },
    "papermill": {
     "duration": 16.167208,
     "end_time": "2024-03-11T02:14:25.229064",
     "exception": false,
     "start_time": "2024-03-11T02:14:09.061856",
     "status": "completed"
    },
    "tags": []
   },
   "outputs": [],
   "source": [
    "\n",
    "# Initialize empty lists\n",
    "X_val, y_val, y_pred = [], [], []\n",
    "\n",
    "# Iterate through the validation dataset\n",
    "for images, labels in validation:\n",
    "    y_val.extend(labels.numpy())\n",
    "    X_val.append(images.numpy())\n",
    "\n",
    "# Concatenate the list of arrays into a single array\n",
    "X_val = np.concatenate(X_val)\n",
    "\n",
    "# Predict using the model\n",
    "predictions = keras_model.predict(X_val)\n",
    "\n",
    "# Iterate through predictions and get the index of the maximum value\n",
    "for i in predictions:\n",
    "    y_pred.append(np.argmax(i))\n",
    "\n",
    "# Create a DataFrame to store actual and predicted values\n",
    "df = pd.DataFrame({'Actual': y_val, 'Prediction': y_pred})\n"
   ]
  },
  {
   "cell_type": "code",
   "execution_count": null,
   "id": "875b1bcc",
   "metadata": {
    "execution": {
     "iopub.execute_input": "2024-03-11T02:14:25.455253Z",
     "iopub.status.busy": "2024-03-11T02:14:25.454868Z",
     "iopub.status.idle": "2024-03-11T02:14:27.819788Z",
     "shell.execute_reply": "2024-03-11T02:14:27.818903Z"
    },
    "papermill": {
     "duration": 2.480657,
     "end_time": "2024-03-11T02:14:27.826294",
     "exception": false,
     "start_time": "2024-03-11T02:14:25.345637",
     "status": "completed"
    },
    "tags": []
   },
   "outputs": [],
   "source": [
    "plt.figure(figsize=(10,10))\n",
    "for i in range(32):\n",
    "    ax = plt.subplot(8, 4, i + 1)\n",
    "    plt.imshow(X_val[i].astype(\"uint8\"))\n",
    "    plt.title(f'{class_names[y_val[i]]} :: {class_names[y_pred[i]]}')\n",
    "    plt.axis(\"off\")"
   ]
  },
  {
   "cell_type": "markdown",
   "id": "0d75abc3",
   "metadata": {
    "papermill": {
     "duration": 0.117893,
     "end_time": "2024-03-11T02:14:28.061362",
     "exception": false,
     "start_time": "2024-03-11T02:14:27.943469",
     "status": "completed"
    },
    "tags": []
   },
   "source": [
    "<a id=\"6\"></a>\n",
    "# **<center><span style=\"color:#005dc4;\">Confusion_matrix</span></center>**"
   ]
  },
  {
   "cell_type": "code",
   "execution_count": null,
   "id": "4ffc41e2",
   "metadata": {
    "execution": {
     "iopub.execute_input": "2024-03-11T02:14:28.297516Z",
     "iopub.status.busy": "2024-03-11T02:14:28.297060Z",
     "iopub.status.idle": "2024-03-11T02:14:28.891241Z",
     "shell.execute_reply": "2024-03-11T02:14:28.890260Z"
    },
    "papermill": {
     "duration": 0.713632,
     "end_time": "2024-03-11T02:14:28.893551",
     "exception": false,
     "start_time": "2024-03-11T02:14:28.179919",
     "status": "completed"
    },
    "tags": []
   },
   "outputs": [],
   "source": [
    "ax= plt.subplot()\n",
    "CM = confusion_matrix(y_val,y_pred)\n",
    "sns.heatmap(CM, annot=True, fmt='g', ax=ax,cbar=False,cmap='RdBu')\n",
    "ax.set_xlabel('Predicted labels')\n",
    "ax.set_ylabel('True labels') \n",
    "ax.set_title('Confusion Matrix')\n",
    "plt.show()\n",
    "CM"
   ]
  },
  {
   "cell_type": "markdown",
   "id": "e412b565",
   "metadata": {
    "papermill": {
     "duration": 0.117019,
     "end_time": "2024-03-11T02:14:29.140191",
     "exception": false,
     "start_time": "2024-03-11T02:14:29.023172",
     "status": "completed"
    },
    "tags": []
   },
   "source": [
    "<a id=\"7\"></a>\n",
    "# **<center><span style=\"color:#005dc4;\">Accuracy</span></center>**"
   ]
  },
  {
   "cell_type": "code",
   "execution_count": null,
   "id": "416d754f",
   "metadata": {
    "execution": {
     "iopub.execute_input": "2024-03-11T02:14:29.381652Z",
     "iopub.status.busy": "2024-03-11T02:14:29.381310Z",
     "iopub.status.idle": "2024-03-11T02:14:29.389806Z",
     "shell.execute_reply": "2024-03-11T02:14:29.388694Z"
    },
    "papermill": {
     "duration": 0.129388,
     "end_time": "2024-03-11T02:14:29.391816",
     "exception": false,
     "start_time": "2024-03-11T02:14:29.262428",
     "status": "completed"
    },
    "tags": []
   },
   "outputs": [],
   "source": [
    "Acc = accuracy_score(y_val,y_pred)\n",
    "print(\"accuracy is: {0:.4f}%\".format(Acc * 100))"
   ]
  }
 ],
 "metadata": {
  "kaggle": {
   "accelerator": "nvidiaTeslaT4",
   "dataSources": [
    {
     "datasetId": 1115942,
     "sourceId": 1874598,
     "sourceType": "datasetVersion"
    }
   ],
   "dockerImageVersionId": 30558,
   "isGpuEnabled": true,
   "isInternetEnabled": true,
   "language": "python",
   "sourceType": "notebook"
  },
  "kernelspec": {
   "display_name": "Python 3",
   "language": "python",
   "name": "python3"
  },
  "language_info": {
   "codemirror_mode": {
    "name": "ipython",
    "version": 3
   },
   "file_extension": ".py",
   "mimetype": "text/x-python",
   "name": "python",
   "nbconvert_exporter": "python",
   "pygments_lexer": "ipython3",
   "version": "3.10.14"
  },
  "papermill": {
   "default_parameters": {},
   "duration": 416.036409,
   "end_time": "2024-03-11T02:14:33.191272",
   "environment_variables": {},
   "exception": null,
   "input_path": "__notebook__.ipynb",
   "output_path": "__notebook__.ipynb",
   "parameters": {},
   "start_time": "2024-03-11T02:07:37.154863",
   "version": "2.4.0"
  }
 },
 "nbformat": 4,
 "nbformat_minor": 5
}
