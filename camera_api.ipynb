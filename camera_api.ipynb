{
 "cells": [
  {
   "cell_type": "code",
   "execution_count": 5,
   "metadata": {},
   "outputs": [],
   "source": [
    "import cv2\n",
    "import numpy as np\n",
    "from keras.models import load_model"
   ]
  },
  {
   "cell_type": "code",
   "execution_count": 6,
   "metadata": {},
   "outputs": [],
   "source": [
    "model = load_model('model_trained.h5')\n",
    "\n",
    "cap = cv2.VideoCapture(0)"
   ]
  },
  {
   "cell_type": "code",
   "execution_count": 7,
   "metadata": {},
   "outputs": [
    {
     "name": "stdout",
     "output_type": "stream",
     "text": [
      "1/1 [==============================] - 0s 133ms/step\n",
      "cardboard\n",
      "1/1 [==============================] - 0s 32ms/step\n",
      "cardboard\n",
      "1/1 [==============================] - 0s 20ms/step\n",
      "cardboard\n",
      "1/1 [==============================] - 0s 23ms/step\n",
      "cardboard\n",
      "1/1 [==============================] - 0s 25ms/step\n",
      "cardboard\n",
      "1/1 [==============================] - 0s 27ms/step\n",
      "cardboard\n",
      "1/1 [==============================] - 0s 24ms/step\n",
      "cardboard\n",
      "1/1 [==============================] - 0s 35ms/step\n",
      "cardboard\n",
      "1/1 [==============================] - 0s 20ms/step\n",
      "cardboard\n",
      "1/1 [==============================] - 0s 25ms/step\n",
      "cardboard\n",
      "1/1 [==============================] - 0s 24ms/step\n",
      "cardboard\n",
      "1/1 [==============================] - 0s 22ms/step\n",
      "cardboard\n",
      "1/1 [==============================] - 0s 29ms/step\n",
      "cardboard\n",
      "1/1 [==============================] - 0s 30ms/step\n",
      "cardboard\n",
      "1/1 [==============================] - 0s 27ms/step\n",
      "cardboard\n",
      "1/1 [==============================] - 0s 43ms/step\n",
      "cardboard\n",
      "1/1 [==============================] - 0s 29ms/step\n",
      "cardboard\n",
      "1/1 [==============================] - 0s 38ms/step\n",
      "cardboard\n",
      "1/1 [==============================] - 0s 32ms/step\n",
      "cardboard\n",
      "1/1 [==============================] - 0s 21ms/step\n",
      "cardboard\n",
      "1/1 [==============================] - 0s 21ms/step\n",
      "cardboard\n",
      "1/1 [==============================] - 0s 20ms/step\n",
      "cardboard\n",
      "1/1 [==============================] - 0s 28ms/step\n",
      "cardboard\n",
      "1/1 [==============================] - 0s 30ms/step\n",
      "cardboard\n",
      "1/1 [==============================] - 0s 25ms/step\n",
      "cardboard\n",
      "1/1 [==============================] - 0s 27ms/step\n",
      "cardboard\n"
     ]
    },
    {
     "ename": "KeyboardInterrupt",
     "evalue": "",
     "output_type": "error",
     "traceback": [
      "\u001b[1;31m---------------------------------------------------------------------------\u001b[0m",
      "\u001b[1;31mKeyboardInterrupt\u001b[0m                         Traceback (most recent call last)",
      "Cell \u001b[1;32mIn[7], line 27\u001b[0m\n\u001b[0;32m     24\u001b[0m cv2\u001b[38;5;241m.\u001b[39mimshow(\u001b[38;5;124m'\u001b[39m\u001b[38;5;124mframe\u001b[39m\u001b[38;5;124m'\u001b[39m, original_frame)\n\u001b[0;32m     26\u001b[0m \u001b[38;5;66;03m#wait for 0.5 sec\u001b[39;00m\n\u001b[1;32m---> 27\u001b[0m \u001b[43mcv2\u001b[49m\u001b[38;5;241;43m.\u001b[39;49m\u001b[43mwaitKey\u001b[49m\u001b[43m(\u001b[49m\u001b[38;5;241;43m1000\u001b[39;49m\u001b[43m)\u001b[49m\n\u001b[0;32m     29\u001b[0m \u001b[38;5;66;03m# break out of the loop if the 'q' key is pressed\u001b[39;00m\n\u001b[0;32m     30\u001b[0m \u001b[38;5;28;01mif\u001b[39;00m cv2\u001b[38;5;241m.\u001b[39mwaitKey(\u001b[38;5;241m1\u001b[39m) \u001b[38;5;241m&\u001b[39m \u001b[38;5;241m0xFF\u001b[39m \u001b[38;5;241m==\u001b[39m \u001b[38;5;28mord\u001b[39m(\u001b[38;5;124m'\u001b[39m\u001b[38;5;124mq\u001b[39m\u001b[38;5;124m'\u001b[39m):\n",
      "\u001b[1;31mKeyboardInterrupt\u001b[0m: "
     ]
    }
   ],
   "source": [
    "while True:\n",
    "    # read a frame from the video stream\n",
    "    ret, frame = cap.read()\n",
    "\n",
    "    original_frame = frame.copy()\n",
    "\n",
    "    # preprocess the frame for input to the model\n",
    "    frame = cv2.resize(frame, (200, 200))\n",
    "    frame = frame / 255.0\n",
    "    frame = np.expand_dims(frame, axis=0)\n",
    "\n",
    "    # make a prediction on the frame using the loaded model\n",
    "    preds = model.predict(frame)\n",
    "    garbage_types =  [ 'battery', 'biological', 'brown-glass', 'cardboard','metal', 'paper', 'plastic', 'trash', 'white-glass']\n",
    "    predicted_class = garbage_types[np.argmax(preds)]\n",
    "    # print(f\"The predicted class is: {predicted_class}\")\n",
    "    print(predicted_class)\n",
    "    # do something with the predictions (e.g., display the results on the frame)\n",
    "    # ...\n",
    "\n",
    "    # display the frame\n",
    "    cv2.namedWindow('frame', cv2.WINDOW_NORMAL)\n",
    "    \n",
    "    cv2.imshow('frame', original_frame)\n",
    "\n",
    "    #wait for 0.5 sec\n",
    "    cv2.waitKey(1000)\n",
    "    \n",
    "    # break out of the loop if the 'q' key is pressed\n",
    "    if cv2.waitKey(1) & 0xFF == ord('q'):\n",
    "        break\n",
    "\n",
    "# release the webcam and close the window"
   ]
  },
  {
   "cell_type": "code",
   "execution_count": 8,
   "metadata": {},
   "outputs": [],
   "source": [
    "cap.release()\n",
    "cv2.destroyAllWindows()"
   ]
  }
 ],
 "metadata": {
  "kernelspec": {
   "display_name": "odtf",
   "language": "python",
   "name": "python3"
  },
  "language_info": {
   "codemirror_mode": {
    "name": "ipython",
    "version": 3
   },
   "file_extension": ".py",
   "mimetype": "text/x-python",
   "name": "python",
   "nbconvert_exporter": "python",
   "pygments_lexer": "ipython3",
   "version": "3.10.14"
  }
 },
 "nbformat": 4,
 "nbformat_minor": 2
}
